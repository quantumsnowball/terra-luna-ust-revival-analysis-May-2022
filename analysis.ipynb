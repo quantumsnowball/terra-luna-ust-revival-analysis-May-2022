{
 "cells": [
  {
   "cell_type": "markdown",
   "metadata": {},
   "source": [
    "# Terra LUNA UST Revival Plan Analysis"
   ]
  },
  {
   "cell_type": "markdown",
   "metadata": {},
   "source": [
    "Please refer to the latest [revival plan proposal](https://agora.terra.money/t/terra-ecosystem-revival-plan-2-updated-and-final/18498)\n",
    "\n",
    "Proposed Token Distribution:\n",
    "\n",
    "* Community pool: 25%\n",
    "    * Controlled by staked governance\n",
    "    * 10% earmarked for developers\n",
    "* Pre-attack LUNA holders: 35%\n",
    "    * All bonded / unbonding Luna, minus TFL at “Pre-attack” snapshot; staking derivatives included\n",
    "    * For wallets with < 1M Luna: 1 year cliff, 2 year vesting thereafter\n",
    "    * For wallets with > 1M Luna: 1 year cliff, 4 year vesting thereafter\n",
    "* Pre-attack aUST holders: 10%\n",
    "    * 500K whale cap - covers up to 99.7% of all holders but only 26.72% of aUST\n",
    "    * 15% unlocked at genesis; 85% vested over 2 years thereafter with 6 month cliff\n",
    "* Post-attack LUNA holders: 10%\n",
    "    * Staking derivatives included\n",
    "    * 15% unlocked at genesis; 85% vested over 2 years thereafter with 6 month cliff\n",
    "* Post-attack UST holders: 20%\n",
    "    * 15% unlocked at genesis; 85% vested over 2 years thereafter with 6 month cliff\n",
    "\n",
    "It is possible to calculate some useful insight base on the above information."
   ]
  },
  {
   "cell_type": "markdown",
   "metadata": {},
   "source": [
    "## Definitions\n",
    "The new coin will continue to use the name `Luna (LUNA)`, old coin will be renamed to `Luna Classic (LUNC)`.\n"
   ]
  },
  {
   "cell_type": "code",
   "execution_count": 1,
   "metadata": {},
   "outputs": [],
   "source": [
    "# imports\n",
    "from types import SimpleNamespace"
   ]
  },
  {
   "cell_type": "code",
   "execution_count": 2,
   "metadata": {},
   "outputs": [],
   "source": [
    "# define constants\n",
    "LUNA_SUPPLY = 1_000_000_000  # one billion\n",
    "LUNC_SUPPLY_SNAPSHOT = 340_000_000  # LUNC total supply right before pre-attack snapshot\n",
    "LUNC_SUPPLY_DILUTED = 6_907_366_873_011 # LUNC total supply after hyper-inflation and right before network halt\n",
    "UST_SUPPLY = 11_278_993_758 # UST total supply after LUNA minting stopped\n",
    "DISTRIBUTION = SimpleNamespace(**{ # distribution plan according to latest proposal\n",
    "    'community': 0.30,\n",
    "    'lunc': 0.35,\n",
    "    'aust': 0.10,\n",
    "    'lunc_diluted': 0.10,\n",
    "    'ust': 0.15,\n",
    "})"
   ]
  },
  {
   "cell_type": "markdown",
   "metadata": {},
   "source": [
    "# Analysis (as of 19 May 2022)"
   ]
  },
  {
   "cell_type": "markdown",
   "metadata": {},
   "source": [
    "### Q1: If I buy LUNA token now, how much is one token worth?"
   ]
  },
  {
   "cell_type": "code",
   "execution_count": 3,
   "metadata": {},
   "outputs": [
    {
     "name": "stdout",
     "output_type": "stream",
     "text": [
      "If new LUNA has a market cap of  1 billion, LUNC is worth $ 0.00001448 per token now.\n",
      "If new LUNA has a market cap of  5 billion, LUNC is worth $ 0.00007239 per token now.\n",
      "If new LUNA has a market cap of 10 billion, LUNC is worth $ 0.00014477 per token now.\n",
      "If new LUNA has a market cap of 20 billion, LUNC is worth $ 0.00028955 per token now.\n"
     ]
    }
   ],
   "source": [
    "def lunc_diluted_fair_value(expected_luna_market_cap):\n",
    "    market_cap_recovered = expected_luna_market_cap * DISTRIBUTION.lunc_diluted\n",
    "    token_value = market_cap_recovered / LUNC_SUPPLY_DILUTED\n",
    "    return token_value\n",
    "\n",
    "\n",
    "for capB in (1, 5, 10, 20):\n",
    "    print((f'If new LUNA has a market cap of {capB:2d} billion, '\n",
    "           f'LUNC is worth ${lunc_diluted_fair_value(capB*1e9):11.8f} per token now.'))\n"
   ]
  },
  {
   "cell_type": "markdown",
   "metadata": {},
   "source": [
    "### Q2: If I own LUNC right before the snapshot, how much value per token can I recover?"
   ]
  },
  {
   "cell_type": "code",
   "execution_count": 4,
   "metadata": {},
   "outputs": [
    {
     "name": "stdout",
     "output_type": "stream",
     "text": [
      "If new LUNA has a market cap of  1 billion, each LUNC can receive 1.0294 new token worth $ 1.00, therefore LUNC before attack is worth $ 1.02941176 per token now.\n",
      "If new LUNA has a market cap of  5 billion, each LUNC can receive 1.0294 new token worth $ 5.00, therefore LUNC before attack is worth $ 5.14705882 per token now.\n",
      "If new LUNA has a market cap of 10 billion, each LUNC can receive 1.0294 new token worth $10.00, therefore LUNC before attack is worth $10.29411765 per token now.\n",
      "If new LUNA has a market cap of 20 billion, each LUNC can receive 1.0294 new token worth $20.00, therefore LUNC before attack is worth $20.58823529 per token now.\n"
     ]
    }
   ],
   "source": [
    "def lunc_fair_val(expected_luna_market_cap):\n",
    "    expected_luna_price = expected_luna_market_cap / LUNA_SUPPLY\n",
    "    market_cap_recovered = expected_luna_market_cap * DISTRIBUTION.lunc\n",
    "    air_drop_ratio = LUNA_SUPPLY * DISTRIBUTION.lunc / LUNC_SUPPLY_SNAPSHOT\n",
    "    lunc_value = market_cap_recovered / LUNC_SUPPLY_SNAPSHOT\n",
    "    return expected_luna_price, air_drop_ratio, lunc_value\n",
    "\n",
    "\n",
    "for capB in (1, 5, 10, 20):\n",
    "    expected_luna_price, air_drop_ratio, token_value = lunc_fair_val(capB*1e9)\n",
    "    print((f'If new LUNA has a market cap of {capB:2d} billion, '\n",
    "           f'each LUNC can receive {air_drop_ratio:6.4f} new token worth ${expected_luna_price:5.2f}, '\n",
    "           f'therefore LUNC before attack is worth ${token_value:11.8f} per token now.'))\n"
   ]
  },
  {
   "cell_type": "markdown",
   "metadata": {},
   "source": [
    "### Q3: If I buy UST token now, how much is one token worth?"
   ]
  },
  {
   "cell_type": "code",
   "execution_count": 5,
   "metadata": {},
   "outputs": [
    {
     "name": "stdout",
     "output_type": "stream",
     "text": [
      "If new LUNA has a market cap of  1 billion, UST is worth $ 0.01329906 per token now.\n",
      "If new LUNA has a market cap of  5 billion, UST is worth $ 0.06649529 per token now.\n",
      "If new LUNA has a market cap of 10 billion, UST is worth $ 0.13299059 per token now.\n",
      "If new LUNA has a market cap of 20 billion, UST is worth $ 0.26598117 per token now.\n"
     ]
    }
   ],
   "source": [
    "def ust_fair_value(expected_luna_market_cap):\n",
    "    market_cap_recovered = expected_luna_market_cap * DISTRIBUTION.ust\n",
    "    token_value = market_cap_recovered / UST_SUPPLY\n",
    "    return token_value\n",
    "\n",
    "\n",
    "for capB in (1, 5, 10, 20):\n",
    "    print((f'If new LUNA has a market cap of {capB:2d} billion, '\n",
    "           f'UST is worth ${ust_fair_value(capB*1e9):11.8f} per token now.'))\n"
   ]
  }
 ],
 "metadata": {
  "interpreter": {
   "hash": "0689a170a08fc0e0f08bc89d659b788fef78d93272318b86e6516da97cfcbd65"
  },
  "kernelspec": {
   "display_name": "Python 3.10.0 64-bit ('python-3.10.0')",
   "language": "python",
   "name": "python3"
  },
  "language_info": {
   "codemirror_mode": {
    "name": "ipython",
    "version": 3
   },
   "file_extension": ".py",
   "mimetype": "text/x-python",
   "name": "python",
   "nbconvert_exporter": "python",
   "pygments_lexer": "ipython3",
   "version": "3.10.0"
  },
  "orig_nbformat": 4
 },
 "nbformat": 4,
 "nbformat_minor": 2
}
